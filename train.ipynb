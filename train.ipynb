{
 "cells": [
  {
   "cell_type": "code",
   "execution_count": 23,
   "outputs": [],
   "source": [
    "import os\n",
    "import warnings\n",
    "\n",
    "warnings.filterwarnings(action='ignore')\n",
    "os.environ['TF_CPP_MIN_LOG_LEVEL'] = '3'"
   ],
   "metadata": {
    "collapsed": false
   }
  },
  {
   "cell_type": "code",
   "execution_count": 24,
   "outputs": [],
   "source": [
    "import random\n",
    "import torch\n",
    "\n",
    "def seed_everything(seed):\n",
    "    random.seed(seed)\n",
    "    os.environ['PYTHONHASHSEED'] = str(seed)\n",
    "    torch.manual_seed(seed)\n",
    "    torch.cuda.manual_seed(seed)\n",
    "    torch.backends.cudnn.deterministic = True\n",
    "    torch.backends.cudnn.benchmark = True\n",
    "\n",
    "CONFIG = {\n",
    "    'SEED': 42,\n",
    "    'BATCH_SIZE': 16,\n",
    "    'SUBMISSION_NUMBER': 2,\n",
    "    'MODEL_NAME': 'roberta-base',\n",
    "    'LEARNING_RATE': 2e-5\n",
    "}\n",
    "\n",
    "seed_everything(CONFIG['SEED']) # Seed 고정"
   ],
   "metadata": {
    "collapsed": false
   }
  },
  {
   "cell_type": "code",
   "execution_count": 25,
   "metadata": {
    "collapsed": true
   },
   "outputs": [],
   "source": [
    "import pandas as pd\n",
    "\n",
    "train = pd.read_csv('data/train.csv')\n",
    "test = pd.read_csv('data/test.csv')\n",
    "submission = pd.read_csv('data/sample_submission.csv')"
   ]
  },
  {
   "cell_type": "code",
   "execution_count": 26,
   "outputs": [
    {
     "data": {
      "text/plain": "                                                sentence type polarity tense  \\\n0                  0.75%포인트 금리 인상은 1994년 이후 28년 만에 처음이다.  사실형       긍정    현재   \n1      이어 ＂앞으로 전문가들과 함께 4주 단위로 상황을 재평가할 예정＂이라며 ＂그 이전이...  사실형       긍정    과거   \n2      정부가 고유가 대응을 위해 7월부터 연말까지 유류세 인하 폭을 30%에서 37%까지...  사실형       긍정    미래   \n3      서울시는 올해 3월 즉시 견인 유예시간 60분을 제공하겠다고 밝혔지만, 하루 만에 ...  사실형       긍정    과거   \n4               익사한 자는 사다리에 태워 거꾸로 놓고 소금으로 코를 막아 가득 채운다.  사실형       긍정    현재   \n...                                                  ...  ...      ...   ...   \n16536  ＇신동덤＇은 ＇신비한 동물사전＇과 ＇해리 포터＇ 시리즈를 잇는 마법 어드벤처물로, ...  사실형       긍정    과거   \n16537  수족냉증은 어릴 때부터 심했으며 관절은 어디 한 곳이 아니고 목, 어깨, 팔꿈치, ...  사실형       긍정    과거   \n16538  김금희 소설가는 ＂계약서 조정이 그리 어려운가 작가를 격려한다면서 그런 문구 하나 ...  사실형       긍정    과거   \n16539  1만명이 넘는 방문자수를 기록한 이번 전시회는 총 77개 작품을 넥슨 사옥을 그대로...  사실형       긍정    과거   \n16540                                      《목민심서》의 내용이다.  사실형       긍정    현재   \n\n      certainty          label  \n0            확실   사실형-긍정-현재-확실  \n1            확실   사실형-긍정-과거-확실  \n2            확실   사실형-긍정-미래-확실  \n3            확실   사실형-긍정-과거-확실  \n4            확실   사실형-긍정-현재-확실  \n...         ...            ...  \n16536        확실   사실형-긍정-과거-확실  \n16537        확실   사실형-긍정-과거-확실  \n16538        확실   사실형-긍정-과거-확실  \n16539       불확실  사실형-긍정-과거-불확실  \n16540        확실   사실형-긍정-현재-확실  \n\n[16541 rows x 6 columns]",
      "text/html": "<div>\n<style scoped>\n    .dataframe tbody tr th:only-of-type {\n        vertical-align: middle;\n    }\n\n    .dataframe tbody tr th {\n        vertical-align: top;\n    }\n\n    .dataframe thead th {\n        text-align: right;\n    }\n</style>\n<table border=\"1\" class=\"dataframe\">\n  <thead>\n    <tr style=\"text-align: right;\">\n      <th></th>\n      <th>sentence</th>\n      <th>type</th>\n      <th>polarity</th>\n      <th>tense</th>\n      <th>certainty</th>\n      <th>label</th>\n    </tr>\n  </thead>\n  <tbody>\n    <tr>\n      <th>0</th>\n      <td>0.75%포인트 금리 인상은 1994년 이후 28년 만에 처음이다.</td>\n      <td>사실형</td>\n      <td>긍정</td>\n      <td>현재</td>\n      <td>확실</td>\n      <td>사실형-긍정-현재-확실</td>\n    </tr>\n    <tr>\n      <th>1</th>\n      <td>이어 ＂앞으로 전문가들과 함께 4주 단위로 상황을 재평가할 예정＂이라며 ＂그 이전이...</td>\n      <td>사실형</td>\n      <td>긍정</td>\n      <td>과거</td>\n      <td>확실</td>\n      <td>사실형-긍정-과거-확실</td>\n    </tr>\n    <tr>\n      <th>2</th>\n      <td>정부가 고유가 대응을 위해 7월부터 연말까지 유류세 인하 폭을 30%에서 37%까지...</td>\n      <td>사실형</td>\n      <td>긍정</td>\n      <td>미래</td>\n      <td>확실</td>\n      <td>사실형-긍정-미래-확실</td>\n    </tr>\n    <tr>\n      <th>3</th>\n      <td>서울시는 올해 3월 즉시 견인 유예시간 60분을 제공하겠다고 밝혔지만, 하루 만에 ...</td>\n      <td>사실형</td>\n      <td>긍정</td>\n      <td>과거</td>\n      <td>확실</td>\n      <td>사실형-긍정-과거-확실</td>\n    </tr>\n    <tr>\n      <th>4</th>\n      <td>익사한 자는 사다리에 태워 거꾸로 놓고 소금으로 코를 막아 가득 채운다.</td>\n      <td>사실형</td>\n      <td>긍정</td>\n      <td>현재</td>\n      <td>확실</td>\n      <td>사실형-긍정-현재-확실</td>\n    </tr>\n    <tr>\n      <th>...</th>\n      <td>...</td>\n      <td>...</td>\n      <td>...</td>\n      <td>...</td>\n      <td>...</td>\n      <td>...</td>\n    </tr>\n    <tr>\n      <th>16536</th>\n      <td>＇신동덤＇은 ＇신비한 동물사전＇과 ＇해리 포터＇ 시리즈를 잇는 마법 어드벤처물로, ...</td>\n      <td>사실형</td>\n      <td>긍정</td>\n      <td>과거</td>\n      <td>확실</td>\n      <td>사실형-긍정-과거-확실</td>\n    </tr>\n    <tr>\n      <th>16537</th>\n      <td>수족냉증은 어릴 때부터 심했으며 관절은 어디 한 곳이 아니고 목, 어깨, 팔꿈치, ...</td>\n      <td>사실형</td>\n      <td>긍정</td>\n      <td>과거</td>\n      <td>확실</td>\n      <td>사실형-긍정-과거-확실</td>\n    </tr>\n    <tr>\n      <th>16538</th>\n      <td>김금희 소설가는 ＂계약서 조정이 그리 어려운가 작가를 격려한다면서 그런 문구 하나 ...</td>\n      <td>사실형</td>\n      <td>긍정</td>\n      <td>과거</td>\n      <td>확실</td>\n      <td>사실형-긍정-과거-확실</td>\n    </tr>\n    <tr>\n      <th>16539</th>\n      <td>1만명이 넘는 방문자수를 기록한 이번 전시회는 총 77개 작품을 넥슨 사옥을 그대로...</td>\n      <td>사실형</td>\n      <td>긍정</td>\n      <td>과거</td>\n      <td>불확실</td>\n      <td>사실형-긍정-과거-불확실</td>\n    </tr>\n    <tr>\n      <th>16540</th>\n      <td>《목민심서》의 내용이다.</td>\n      <td>사실형</td>\n      <td>긍정</td>\n      <td>현재</td>\n      <td>확실</td>\n      <td>사실형-긍정-현재-확실</td>\n    </tr>\n  </tbody>\n</table>\n<p>16541 rows × 6 columns</p>\n</div>"
     },
     "execution_count": 26,
     "metadata": {},
     "output_type": "execute_result"
    }
   ],
   "source": [
    "train = train.drop(['ID'], axis=1)\n",
    "train.columns = ['sentence', 'type', 'polarity', 'tense', 'certainty', 'label']\n",
    "train"
   ],
   "metadata": {
    "collapsed": false
   }
  },
  {
   "cell_type": "code",
   "execution_count": 27,
   "outputs": [],
   "source": [
    "train.drop_duplicates(subset=['sentence'], inplace=True)\n",
    "\n",
    "import random\n",
    "true_pos_past_cert = list(train.loc[(train.label == '사실형-긍정-과거-확실')].index)\n",
    "true_pos_past_cert = random.sample(true_pos_past_cert, len(true_pos_past_cert) // 3)\n",
    "true_pos_prsnt_cert = list(train.loc[(train.label == '사실형-긍정-현재-확실')].index)\n",
    "true_pos_prsnt_cert = random.sample(true_pos_prsnt_cert, len(true_pos_prsnt_cert) // 2)\n"
   ],
   "metadata": {
    "collapsed": false
   }
  },
  {
   "cell_type": "code",
   "execution_count": 28,
   "outputs": [],
   "source": [
    "make_cnt_by_label = ((train.label.value_counts().std() - train.label.value_counts()) / train.label.value_counts()).round()"
   ],
   "metadata": {
    "collapsed": false
   }
  },
  {
   "cell_type": "code",
   "execution_count": 29,
   "outputs": [],
   "source": [
    "from eda import EDA\n",
    "from collections import deque\n",
    "import random\n",
    "\n",
    "synth = deque()\n",
    "\n",
    "for i, sentence, *labels, label in train.itertuples():\n",
    "    sentence2make = int(make_cnt_by_label[label])\n",
    "    if sentence2make > 0:\n",
    "        new_sentences = EDA(sentence=sentence,\n",
    "                            alpha_sr=0.1,\n",
    "                            alpha_ri=0.2,\n",
    "                            alpha_rs=0.2,\n",
    "                            p_rd=0.1,\n",
    "                            num_aug=sentence2make)\n",
    "\n",
    "        for new_sentence in new_sentences:\n",
    "            synth.append([new_sentence, *labels, label])\n",
    "\n",
    "    else:\n",
    "        if label == '사실형-긍정-과거-확실' and i in true_pos_past_cert:\n",
    "            synth.append([sentence, *labels, label])\n",
    "        elif label == '사실형-긍정-현재-확실' and i in true_pos_prsnt_cert:\n",
    "            synth.append([sentence, *labels, label])\n"
   ],
   "metadata": {
    "collapsed": false
   }
  },
  {
   "cell_type": "code",
   "execution_count": 30,
   "outputs": [
    {
     "data": {
      "text/plain": "69225"
     },
     "execution_count": 30,
     "metadata": {},
     "output_type": "execute_result"
    }
   ],
   "source": [
    "synth = pd.DataFrame(synth, columns = ['sentence', 'type', 'polarity', 'tense', 'certainty', 'label'])\n",
    "len(synth)"
   ],
   "metadata": {
    "collapsed": false
   }
  },
  {
   "cell_type": "code",
   "execution_count": 31,
   "outputs": [
    {
     "data": {
      "text/plain": "                                                sentence type polarity tense  \\\n0      정부가 고유가 대응을 위해 위 7월부터 연말까지 유류세 인하 폭을 30%에서 37%...  사실형       긍정    미래   \n1      정부가 고유가 대응을 위해 7월부터 연말까지 유류세 인하 폭을 30%에서 37%까지...  사실형       긍정    미래   \n2      이같은 변화를 포함해 올해 종부세 과세 대상은 당초 21만4000명에서 12만100...  사실형       긍정    현재   \n3      가장 최근에 있었던, OTT 예능 프로그램 출연으로 일약 스타덤에 올랐던 한 인플루...  사실형       긍정    현재   \n4      이 같은 서울시 방침에 직격탄을 맞게 된 곳이 바로 한남근린공원(한남동 677-1)이다.  사실형       긍정    현재   \n...                                                  ...  ...      ...   ...   \n69220  1만명이 넘는 방문자수를 기록한 이번 전시회는 총 77개 작품을 넥슨 사옥을 그대로...  사실형       긍정    과거   \n69221  1만명이 넘는 방문자수를 기록한 이번 전시회는 총 77개 있도록 넥슨 메타버스 그대...  사실형       긍정    과거   \n69222  1만명이 넘는 기록한 이번 전시회는 총 77개 작품을 넥슨 사옥을 그대로 구현한 메...  사실형       긍정    과거   \n69223  1만명이 넘는 방문자수를 기록한 이번 전시회는 총 77개 작품을 넥슨 사옥을 그대로...  사실형       긍정    과거   \n69224  1만명이 넘는 방문자수를 기록한 이번 전시회는 총 77개 작품을 넥슨 사옥을 그대로...  사실형       긍정    과거   \n\n      certainty  \n0            확실  \n1            확실  \n2            확실  \n3            확실  \n4            확실  \n...         ...  \n69220       불확실  \n69221       불확실  \n69222       불확실  \n69223       불확실  \n69224       불확실  \n\n[69225 rows x 5 columns]",
      "text/html": "<div>\n<style scoped>\n    .dataframe tbody tr th:only-of-type {\n        vertical-align: middle;\n    }\n\n    .dataframe tbody tr th {\n        vertical-align: top;\n    }\n\n    .dataframe thead th {\n        text-align: right;\n    }\n</style>\n<table border=\"1\" class=\"dataframe\">\n  <thead>\n    <tr style=\"text-align: right;\">\n      <th></th>\n      <th>sentence</th>\n      <th>type</th>\n      <th>polarity</th>\n      <th>tense</th>\n      <th>certainty</th>\n    </tr>\n  </thead>\n  <tbody>\n    <tr>\n      <th>0</th>\n      <td>정부가 고유가 대응을 위해 위 7월부터 연말까지 유류세 인하 폭을 30%에서 37%...</td>\n      <td>사실형</td>\n      <td>긍정</td>\n      <td>미래</td>\n      <td>확실</td>\n    </tr>\n    <tr>\n      <th>1</th>\n      <td>정부가 고유가 대응을 위해 7월부터 연말까지 유류세 인하 폭을 30%에서 37%까지...</td>\n      <td>사실형</td>\n      <td>긍정</td>\n      <td>미래</td>\n      <td>확실</td>\n    </tr>\n    <tr>\n      <th>2</th>\n      <td>이같은 변화를 포함해 올해 종부세 과세 대상은 당초 21만4000명에서 12만100...</td>\n      <td>사실형</td>\n      <td>긍정</td>\n      <td>현재</td>\n      <td>확실</td>\n    </tr>\n    <tr>\n      <th>3</th>\n      <td>가장 최근에 있었던, OTT 예능 프로그램 출연으로 일약 스타덤에 올랐던 한 인플루...</td>\n      <td>사실형</td>\n      <td>긍정</td>\n      <td>현재</td>\n      <td>확실</td>\n    </tr>\n    <tr>\n      <th>4</th>\n      <td>이 같은 서울시 방침에 직격탄을 맞게 된 곳이 바로 한남근린공원(한남동 677-1)이다.</td>\n      <td>사실형</td>\n      <td>긍정</td>\n      <td>현재</td>\n      <td>확실</td>\n    </tr>\n    <tr>\n      <th>...</th>\n      <td>...</td>\n      <td>...</td>\n      <td>...</td>\n      <td>...</td>\n      <td>...</td>\n    </tr>\n    <tr>\n      <th>69220</th>\n      <td>1만명이 넘는 방문자수를 기록한 이번 전시회는 총 77개 작품을 넥슨 사옥을 그대로...</td>\n      <td>사실형</td>\n      <td>긍정</td>\n      <td>과거</td>\n      <td>불확실</td>\n    </tr>\n    <tr>\n      <th>69221</th>\n      <td>1만명이 넘는 방문자수를 기록한 이번 전시회는 총 77개 있도록 넥슨 메타버스 그대...</td>\n      <td>사실형</td>\n      <td>긍정</td>\n      <td>과거</td>\n      <td>불확실</td>\n    </tr>\n    <tr>\n      <th>69222</th>\n      <td>1만명이 넘는 기록한 이번 전시회는 총 77개 작품을 넥슨 사옥을 그대로 구현한 메...</td>\n      <td>사실형</td>\n      <td>긍정</td>\n      <td>과거</td>\n      <td>불확실</td>\n    </tr>\n    <tr>\n      <th>69223</th>\n      <td>1만명이 넘는 방문자수를 기록한 이번 전시회는 총 77개 작품을 넥슨 사옥을 그대로...</td>\n      <td>사실형</td>\n      <td>긍정</td>\n      <td>과거</td>\n      <td>불확실</td>\n    </tr>\n    <tr>\n      <th>69224</th>\n      <td>1만명이 넘는 방문자수를 기록한 이번 전시회는 총 77개 작품을 넥슨 사옥을 그대로...</td>\n      <td>사실형</td>\n      <td>긍정</td>\n      <td>과거</td>\n      <td>불확실</td>\n    </tr>\n  </tbody>\n</table>\n<p>69225 rows × 5 columns</p>\n</div>"
     },
     "execution_count": 31,
     "metadata": {},
     "output_type": "execute_result"
    }
   ],
   "source": [
    "train = synth.drop('label', axis=1)\n",
    "train"
   ],
   "metadata": {
    "collapsed": false
   }
  },
  {
   "cell_type": "code",
   "execution_count": 32,
   "outputs": [
    {
     "data": {
      "text/plain": "                                               sentence\n0     장욱진의 ＇가족＇은 허물 없는 가족애를, 처음 공개되는 정약용의 ＇정효자전＇과 ＇정...\n1              조지 W 부시, 버락 오바마 전 대통령도 전쟁 위험 때문에 버린 카드다.\n2           지난해 1분기 128억원이었던 영업이익이 올해 1분기 505억원으로 급증했다.\n3     수상 작가와 맺으려던 계약서 내용 가운데 일부가 ＇독소 조항＇으로 해석돼 수정을 요...\n4     결국 최근 KDB산업은행은 대규모 손실 위기에 닥친 에어부산에 140억원 금융지원을...\n...                                                 ...\n7085  2020 세계국가편람 모바일 앱은 세계 216개국의 국가개황과 주요 경제지표, 사회...\n7086                              탈세계화 징후들이 반갑지 않은 이유다.\n7087  틱톡은 6월 ＇인터넷 안전의 달＇을 맞아 올바른 개인정보 보호 관리 방법, 앱 내 ...\n7088  만약 3개월 간 채굴자들의 투표를 거쳐 2/3 이상의 해시파워가 ＇채굴세＇ 도입에 ...\n7089                        아버지 홍언필이 인기척에 깨 그 광경을 지켜봤다.\n\n[7090 rows x 1 columns]",
      "text/html": "<div>\n<style scoped>\n    .dataframe tbody tr th:only-of-type {\n        vertical-align: middle;\n    }\n\n    .dataframe tbody tr th {\n        vertical-align: top;\n    }\n\n    .dataframe thead th {\n        text-align: right;\n    }\n</style>\n<table border=\"1\" class=\"dataframe\">\n  <thead>\n    <tr style=\"text-align: right;\">\n      <th></th>\n      <th>sentence</th>\n    </tr>\n  </thead>\n  <tbody>\n    <tr>\n      <th>0</th>\n      <td>장욱진의 ＇가족＇은 허물 없는 가족애를, 처음 공개되는 정약용의 ＇정효자전＇과 ＇정...</td>\n    </tr>\n    <tr>\n      <th>1</th>\n      <td>조지 W 부시, 버락 오바마 전 대통령도 전쟁 위험 때문에 버린 카드다.</td>\n    </tr>\n    <tr>\n      <th>2</th>\n      <td>지난해 1분기 128억원이었던 영업이익이 올해 1분기 505억원으로 급증했다.</td>\n    </tr>\n    <tr>\n      <th>3</th>\n      <td>수상 작가와 맺으려던 계약서 내용 가운데 일부가 ＇독소 조항＇으로 해석돼 수정을 요...</td>\n    </tr>\n    <tr>\n      <th>4</th>\n      <td>결국 최근 KDB산업은행은 대규모 손실 위기에 닥친 에어부산에 140억원 금융지원을...</td>\n    </tr>\n    <tr>\n      <th>...</th>\n      <td>...</td>\n    </tr>\n    <tr>\n      <th>7085</th>\n      <td>2020 세계국가편람 모바일 앱은 세계 216개국의 국가개황과 주요 경제지표, 사회...</td>\n    </tr>\n    <tr>\n      <th>7086</th>\n      <td>탈세계화 징후들이 반갑지 않은 이유다.</td>\n    </tr>\n    <tr>\n      <th>7087</th>\n      <td>틱톡은 6월 ＇인터넷 안전의 달＇을 맞아 올바른 개인정보 보호 관리 방법, 앱 내 ...</td>\n    </tr>\n    <tr>\n      <th>7088</th>\n      <td>만약 3개월 간 채굴자들의 투표를 거쳐 2/3 이상의 해시파워가 ＇채굴세＇ 도입에 ...</td>\n    </tr>\n    <tr>\n      <th>7089</th>\n      <td>아버지 홍언필이 인기척에 깨 그 광경을 지켜봤다.</td>\n    </tr>\n  </tbody>\n</table>\n<p>7090 rows × 1 columns</p>\n</div>"
     },
     "execution_count": 32,
     "metadata": {},
     "output_type": "execute_result"
    }
   ],
   "source": [
    "test = test.drop(['ID'], axis=1)\n",
    "test.columns = ['sentence']\n",
    "test"
   ],
   "metadata": {
    "collapsed": false
   }
  },
  {
   "cell_type": "code",
   "execution_count": 33,
   "outputs": [
    {
     "data": {
      "text/plain": "                                                sentence  type  polarity  \\\n0      정부가 고유가 대응을 위해 위 7월부터 연말까지 유류세 인하 폭을 30%에서 37%...     1         0   \n1      정부가 고유가 대응을 위해 7월부터 연말까지 유류세 인하 폭을 30%에서 37%까지...     1         0   \n2      이같은 변화를 포함해 올해 종부세 과세 대상은 당초 21만4000명에서 12만100...     1         0   \n3      가장 최근에 있었던, OTT 예능 프로그램 출연으로 일약 스타덤에 올랐던 한 인플루...     1         0   \n4      이 같은 서울시 방침에 직격탄을 맞게 된 곳이 바로 한남근린공원(한남동 677-1)이다.     1         0   \n...                                                  ...   ...       ...   \n69220  1만명이 넘는 방문자수를 기록한 이번 전시회는 총 77개 작품을 넥슨 사옥을 그대로...     1         0   \n69221  1만명이 넘는 방문자수를 기록한 이번 전시회는 총 77개 있도록 넥슨 메타버스 그대...     1         0   \n69222  1만명이 넘는 기록한 이번 전시회는 총 77개 작품을 넥슨 사옥을 그대로 구현한 메...     1         0   \n69223  1만명이 넘는 방문자수를 기록한 이번 전시회는 총 77개 작품을 넥슨 사옥을 그대로...     1         0   \n69224  1만명이 넘는 방문자수를 기록한 이번 전시회는 총 77개 작품을 넥슨 사옥을 그대로...     1         0   \n\n       tense  certainty  \n0          1          1  \n1          1          1  \n2          2          1  \n3          2          1  \n4          2          1  \n...      ...        ...  \n69220      0          0  \n69221      0          0  \n69222      0          0  \n69223      0          0  \n69224      0          0  \n\n[69225 rows x 5 columns]",
      "text/html": "<div>\n<style scoped>\n    .dataframe tbody tr th:only-of-type {\n        vertical-align: middle;\n    }\n\n    .dataframe tbody tr th {\n        vertical-align: top;\n    }\n\n    .dataframe thead th {\n        text-align: right;\n    }\n</style>\n<table border=\"1\" class=\"dataframe\">\n  <thead>\n    <tr style=\"text-align: right;\">\n      <th></th>\n      <th>sentence</th>\n      <th>type</th>\n      <th>polarity</th>\n      <th>tense</th>\n      <th>certainty</th>\n    </tr>\n  </thead>\n  <tbody>\n    <tr>\n      <th>0</th>\n      <td>정부가 고유가 대응을 위해 위 7월부터 연말까지 유류세 인하 폭을 30%에서 37%...</td>\n      <td>1</td>\n      <td>0</td>\n      <td>1</td>\n      <td>1</td>\n    </tr>\n    <tr>\n      <th>1</th>\n      <td>정부가 고유가 대응을 위해 7월부터 연말까지 유류세 인하 폭을 30%에서 37%까지...</td>\n      <td>1</td>\n      <td>0</td>\n      <td>1</td>\n      <td>1</td>\n    </tr>\n    <tr>\n      <th>2</th>\n      <td>이같은 변화를 포함해 올해 종부세 과세 대상은 당초 21만4000명에서 12만100...</td>\n      <td>1</td>\n      <td>0</td>\n      <td>2</td>\n      <td>1</td>\n    </tr>\n    <tr>\n      <th>3</th>\n      <td>가장 최근에 있었던, OTT 예능 프로그램 출연으로 일약 스타덤에 올랐던 한 인플루...</td>\n      <td>1</td>\n      <td>0</td>\n      <td>2</td>\n      <td>1</td>\n    </tr>\n    <tr>\n      <th>4</th>\n      <td>이 같은 서울시 방침에 직격탄을 맞게 된 곳이 바로 한남근린공원(한남동 677-1)이다.</td>\n      <td>1</td>\n      <td>0</td>\n      <td>2</td>\n      <td>1</td>\n    </tr>\n    <tr>\n      <th>...</th>\n      <td>...</td>\n      <td>...</td>\n      <td>...</td>\n      <td>...</td>\n      <td>...</td>\n    </tr>\n    <tr>\n      <th>69220</th>\n      <td>1만명이 넘는 방문자수를 기록한 이번 전시회는 총 77개 작품을 넥슨 사옥을 그대로...</td>\n      <td>1</td>\n      <td>0</td>\n      <td>0</td>\n      <td>0</td>\n    </tr>\n    <tr>\n      <th>69221</th>\n      <td>1만명이 넘는 방문자수를 기록한 이번 전시회는 총 77개 있도록 넥슨 메타버스 그대...</td>\n      <td>1</td>\n      <td>0</td>\n      <td>0</td>\n      <td>0</td>\n    </tr>\n    <tr>\n      <th>69222</th>\n      <td>1만명이 넘는 기록한 이번 전시회는 총 77개 작품을 넥슨 사옥을 그대로 구현한 메...</td>\n      <td>1</td>\n      <td>0</td>\n      <td>0</td>\n      <td>0</td>\n    </tr>\n    <tr>\n      <th>69223</th>\n      <td>1만명이 넘는 방문자수를 기록한 이번 전시회는 총 77개 작품을 넥슨 사옥을 그대로...</td>\n      <td>1</td>\n      <td>0</td>\n      <td>0</td>\n      <td>0</td>\n    </tr>\n    <tr>\n      <th>69224</th>\n      <td>1만명이 넘는 방문자수를 기록한 이번 전시회는 총 77개 작품을 넥슨 사옥을 그대로...</td>\n      <td>1</td>\n      <td>0</td>\n      <td>0</td>\n      <td>0</td>\n    </tr>\n  </tbody>\n</table>\n<p>69225 rows × 5 columns</p>\n</div>"
     },
     "execution_count": 33,
     "metadata": {},
     "output_type": "execute_result"
    }
   ],
   "source": [
    "from sklearn.preprocessing import LabelEncoder\n",
    "\n",
    "# 2. Label Encoding (유형, 극성, 시제, 확실성)\n",
    "type_le = LabelEncoder()\n",
    "train[\"type\"] = type_le.fit_transform(train[\"type\"].values)\n",
    "\n",
    "polarity_le = LabelEncoder()\n",
    "train[\"polarity\"] = polarity_le.fit_transform(train[\"polarity\"].values)\n",
    "\n",
    "tense_le = LabelEncoder()\n",
    "train[\"tense\"] = tense_le.fit_transform(train[\"tense\"].values)\n",
    "\n",
    "certainty_le = LabelEncoder()\n",
    "train[\"certainty\"] = certainty_le.fit_transform(train[\"certainty\"].values)\n",
    "train"
   ],
   "metadata": {
    "collapsed": false
   }
  },
  {
   "cell_type": "code",
   "execution_count": 34,
   "outputs": [],
   "source": [
    "from transformers import AutoTokenizer\n",
    "\n",
    "tokenizer = AutoTokenizer.from_pretrained(CONFIG['MODEL_NAME'])"
   ],
   "metadata": {
    "collapsed": false
   }
  },
  {
   "cell_type": "code",
   "execution_count": 35,
   "outputs": [],
   "source": [
    "from data_module import RoBertaDataModule\n",
    "\n",
    "dm = RoBertaDataModule(tokenizer=tokenizer, train_df=train, predict_df=test, seed=CONFIG['SEED'], batch_size=CONFIG['BATCH_SIZE'], max_token_len=512)"
   ],
   "metadata": {
    "collapsed": false
   }
  },
  {
   "cell_type": "code",
   "execution_count": 36,
   "outputs": [
    {
     "name": "stderr",
     "output_type": "stream",
     "text": [
      "Some weights of the model checkpoint at roberta-base were not used when initializing RobertaModel: ['lm_head.layer_norm.bias', 'lm_head.layer_norm.weight', 'lm_head.bias', 'lm_head.dense.weight', 'lm_head.decoder.weight', 'lm_head.dense.bias']\n",
      "- This IS expected if you are initializing RobertaModel from the checkpoint of a model trained on another task or with another architecture (e.g. initializing a BertForSequenceClassification model from a BertForPreTraining model).\n",
      "- This IS NOT expected if you are initializing RobertaModel from the checkpoint of a model that you expect to be exactly identical (initializing a BertForSequenceClassification model from a BertForSequenceClassification model).\n"
     ]
    }
   ],
   "source": [
    "from model import RoBERTa\n",
    "\n",
    "roberta = RoBERTa(model_name=CONFIG['MODEL_NAME'])"
   ],
   "metadata": {
    "collapsed": false
   }
  },
  {
   "cell_type": "code",
   "execution_count": 37,
   "outputs": [],
   "source": [
    "from pytorch_lightning.loggers import WandbLogger\n",
    "from pytorch_lightning.callbacks import EarlyStopping, ModelCheckpoint\n",
    "\n",
    "# make directory if it's not exists\n",
    "if not os.path.exists('ckpts'):\n",
    "    os.mkdir('ckpts')\n",
    "\n",
    "trainer_config = {\n",
    "    # 'max_epochs': 10,\n",
    "    'accelerator': 'auto',\n",
    "    'precision': 16,\n",
    "    'amp_backend': 'apex',\n",
    "    'callbacks': [\n",
    "        ModelCheckpoint(\n",
    "            dirpath='ckpts',\n",
    "            filename='{epoch:02d}-{val/loss-total:.3f}',\n",
    "            verbose=True,\n",
    "            save_last=True,\n",
    "            save_top_k=5,\n",
    "            monitor='val/loss-total',\n",
    "            mode='min'\n",
    "        ),\n",
    "        EarlyStopping(monitor='val/loss-total', min_delta=0.00, patience=2, verbose=True, mode='min'),\n",
    "    ],\n",
    "    'logger': WandbLogger(project=\"sentense_classification\")\n",
    "}"
   ],
   "metadata": {
    "collapsed": false
   }
  },
  {
   "cell_type": "code",
   "execution_count": 38,
   "outputs": [
    {
     "name": "stderr",
     "output_type": "stream",
     "text": [
      "INFO:pytorch_lightning.utilities.rank_zero:Using 16bit apex Automatic Mixed Precision (AMP)\n",
      "INFO:pytorch_lightning.utilities.rank_zero:GPU available: True (cuda), used: True\n",
      "INFO:pytorch_lightning.utilities.rank_zero:TPU available: False, using: 0 TPU cores\n",
      "INFO:pytorch_lightning.utilities.rank_zero:IPU available: False, using: 0 IPUs\n",
      "INFO:pytorch_lightning.utilities.rank_zero:HPU available: False, using: 0 HPUs\n"
     ]
    }
   ],
   "source": [
    "import pytorch_lightning as pl\n",
    "\n",
    "trainer = pl.Trainer(**trainer_config)"
   ],
   "metadata": {
    "collapsed": false
   }
  },
  {
   "cell_type": "code",
   "execution_count": 39,
   "outputs": [
    {
     "name": "stderr",
     "output_type": "stream",
     "text": [
      "INFO:pytorch_lightning.accelerators.cuda:LOCAL_RANK: 0 - CUDA_VISIBLE_DEVICES: [0]\n",
      "INFO:pytorch_lightning.callbacks.model_summary:\n",
      "  | Name                 | Type         | Params\n",
      "------------------------------------------------------\n",
      "0 | roberta              | RobertaModel | 124 M \n",
      "1 | type_classifier      | Sequential   | 3.1 K \n",
      "2 | polarity_classifier  | Sequential   | 2.3 K \n",
      "3 | tense_classifier     | Sequential   | 2.3 K \n",
      "4 | certainty_classifier | Sequential   | 1.5 K \n",
      "------------------------------------------------------\n",
      "124 M     Trainable params\n",
      "0         Non-trainable params\n",
      "124 M     Total params\n",
      "498.619   Total estimated model params size (MB)\n"
     ]
    },
    {
     "name": "stdout",
     "output_type": "stream",
     "text": [
      "Selected optimization level O2:  FP16 training with FP32 batchnorm and FP32 master weights.\n",
      "\n",
      "Defaults for this optimization level are:\n",
      "enabled                : True\n",
      "opt_level              : O2\n",
      "cast_model_type        : torch.float16\n",
      "patch_torch_functions  : False\n",
      "keep_batchnorm_fp32    : True\n",
      "master_weights         : True\n",
      "loss_scale             : dynamic\n",
      "Processing user overrides (additional kwargs that are not None)...\n",
      "After processing overrides, optimization options are:\n",
      "enabled                : True\n",
      "opt_level              : O2\n",
      "cast_model_type        : torch.float16\n",
      "patch_torch_functions  : False\n",
      "keep_batchnorm_fp32    : True\n",
      "master_weights         : True\n",
      "loss_scale             : dynamic\n"
     ]
    },
    {
     "data": {
      "text/plain": "Sanity Checking: 0it [00:00, ?it/s]",
      "application/vnd.jupyter.widget-view+json": {
       "version_major": 2,
       "version_minor": 0,
       "model_id": "c8affc8c37cf484393284b3d6a857a67"
      }
     },
     "metadata": {},
     "output_type": "display_data"
    },
    {
     "data": {
      "text/plain": "Training: 0it [00:00, ?it/s]",
      "application/vnd.jupyter.widget-view+json": {
       "version_major": 2,
       "version_minor": 0,
       "model_id": "33c32b9f04c84bde821c20bd658ed24a"
      }
     },
     "metadata": {},
     "output_type": "display_data"
    }
   ],
   "source": [
    "trainer.fit(roberta, dm)"
   ],
   "metadata": {
    "collapsed": false
   }
  },
  {
   "cell_type": "code",
   "execution_count": 18,
   "outputs": [
    {
     "name": "stderr",
     "output_type": "stream",
     "text": [
      "INFO:pytorch_lightning.utilities.rank_zero:Restoring states from the checkpoint path at /home/fourind/projects/sentense_clf/ckpts/epoch=10-val/loss-total=0.056.ckpt\n",
      "INFO:pytorch_lightning.accelerators.cuda:LOCAL_RANK: 0 - CUDA_VISIBLE_DEVICES: [0]\n",
      "INFO:pytorch_lightning.utilities.rank_zero:Loaded model weights from checkpoint at /home/fourind/projects/sentense_clf/ckpts/epoch=10-val/loss-total=0.056.ckpt\n"
     ]
    },
    {
     "data": {
      "text/plain": "Predicting: 3462it [00:00, ?it/s]",
      "application/vnd.jupyter.widget-view+json": {
       "version_major": 2,
       "version_minor": 0,
       "model_id": "2d699cebf9e14c4bbf650401a16b7da3"
      }
     },
     "metadata": {},
     "output_type": "display_data"
    }
   ],
   "source": [
    "output = trainer.predict(roberta, dm, ckpt_path='best')"
   ],
   "metadata": {
    "collapsed": false
   }
  },
  {
   "cell_type": "code",
   "execution_count": 19,
   "outputs": [],
   "source": [
    "import torch\n",
    "import torch.nn.functional as F\n",
    "\n",
    "preds = pd.DataFrame()\n",
    "for k in ['type', 'polarity', 'tense', 'certainty']:\n",
    "    logit = torch.concat([o[k] for o in output], dim=0)\n",
    "    _, preds[k] = torch.max(F.softmax(logit), 1)"
   ],
   "metadata": {
    "collapsed": false
   }
  },
  {
   "cell_type": "code",
   "execution_count": 20,
   "outputs": [],
   "source": [
    "# decoding\n",
    "preds[\"type\"] = type_le.inverse_transform(preds[\"type\"].values)\n",
    "preds[\"polarity\"] = polarity_le.inverse_transform(preds[\"polarity\"].values)\n",
    "preds[\"tense\"] = tense_le.inverse_transform(preds[\"tense\"].values)\n",
    "preds[\"certainty\"] = certainty_le.inverse_transform(preds[\"certainty\"].values)"
   ],
   "metadata": {
    "collapsed": false
   }
  },
  {
   "cell_type": "code",
   "execution_count": 21,
   "outputs": [],
   "source": [
    "# combine preds\n",
    "preds['label'] = ['-'.join([row['type'],\n",
    "                            row['polarity'],\n",
    "                            row['tense'],\n",
    "                            row['certainty']]) for i, row in preds.iterrows()]"
   ],
   "metadata": {
    "collapsed": false
   }
  },
  {
   "cell_type": "code",
   "execution_count": 22,
   "outputs": [],
   "source": [
    "# make submission csv\n",
    "submission['label'] = preds['label']\n",
    "submission.to_csv('submissions/submission_balanced.csv', index=False)"
   ],
   "metadata": {
    "collapsed": false
   }
  },
  {
   "cell_type": "code",
   "execution_count": null,
   "outputs": [],
   "source": [],
   "metadata": {
    "collapsed": false
   }
  }
 ],
 "metadata": {
  "kernelspec": {
   "display_name": "Python 3",
   "language": "python",
   "name": "python3"
  },
  "language_info": {
   "codemirror_mode": {
    "name": "ipython",
    "version": 2
   },
   "file_extension": ".py",
   "mimetype": "text/x-python",
   "name": "python",
   "nbconvert_exporter": "python",
   "pygments_lexer": "ipython2",
   "version": "2.7.6"
  }
 },
 "nbformat": 4,
 "nbformat_minor": 0
}
